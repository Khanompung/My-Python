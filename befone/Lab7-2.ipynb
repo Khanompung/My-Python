{
 "cells": [
  {
   "cell_type": "code",
   "execution_count": 29,
   "metadata": {},
   "outputs": [],
   "source": [
    "import tkinter as tk\n",
    "\n",
    "def print_something(text):\n",
    "    print(text)\n",
    "\n",
    "app = tk.Tk()\n",
    "app.title('Hello world')\n",
    "button = tk.Button(text='Shikanoko!!', command= lambda :print_something('shikanokonokonokokoshitantan'))\n",
    "button.pack()\n",
    "app.mainloop()"
   ]
  },
  {
   "cell_type": "code",
   "execution_count": 22,
   "metadata": {},
   "outputs": [
    {
     "name": "stdout",
     "output_type": "stream",
     "text": [
      "สวัดดี\n",
      "wommy\n",
      "Shikanokonokonokokoshitantanshikanokonokonokokoshitantanshikanokonokonokokoshitantanshikanokonokonokokoshitantan\n",
      "สวัดดี\n",
      "wommy\n",
      "Shikanokonokonokokoshitantanshikanokonokonokokoshitantanshikanokonokonokokoshitantanshikanokonokonokokoshitantan\n",
      "สวัดดี\n",
      "wommy\n",
      "Shikanokonokonokokoshitantanshikanokonokonokokoshitantanshikanokonokonokokoshitantanshikanokonokonokokoshitantan\n",
      "สวัดดี\n",
      "wommy\n",
      "Shikanokonokonokokoshitantanshikanokonokonokokoshitantanshikanokonokonokokoshitantanshikanokonokonokokoshitantan\n",
      "สวัดดี\n",
      "wommy\n",
      "Shikanokonokonokokoshitantanshikanokonokonokokoshitantanshikanokonokonokokoshitantanshikanokonokonokokoshitantan\n",
      "สวัดดี\n",
      "wommy\n",
      "Shikanokonokonokokoshitantanshikanokonokonokokoshitantanshikanokonokonokokoshitantanshikanokonokonokokoshitantan\n",
      "สวัดดี\n",
      "wommy\n",
      "Shikanokonokonokokoshitantanshikanokonokonokokoshitantanshikanokonokonokokoshitantanshikanokonokonokokoshitantan\n"
     ]
    }
   ],
   "source": [
    "import tkinter as tk\n",
    "\n",
    "\n",
    "app = tk.Tk()\n",
    "app.title('Hello world')\n",
    "app.geometry(\"500x300\")\n",
    "\n",
    "\n",
    "def showme(entry_widget):\n",
    "    value = entry_widget.get()\n",
    "    print(\"สวัดดี\")\n",
    "    print(value)\n",
    "    print(\"Shikanokonokonokokoshitantanshikanokonokonokokoshitantanshikanokonokonokokoshitantanshikanokonokonokokoshitantan\")\n",
    "\n",
    "label = tk.Label(text=\"Enter your name:\")\n",
    "name = tk.Entry()\n",
    "label2 = tk.Label(text=\"Enter your Shikanoko:\")\n",
    "salary = tk.Entry()\n",
    "btn = tk.Button(text='Submit', command=lambda: showme(name))\n",
    "\n",
    "label.place(x=50, y=50)\n",
    "name.place(x=180, y=50)\n",
    "label2.place(x=50, y=100)\n",
    "salary.place(x=180, y=100)\n",
    "btn.place(x=50, y=150)\n",
    "\n",
    "app.mainloop()"
   ]
  },
  {
   "cell_type": "code",
   "execution_count": 20,
   "metadata": {},
   "outputs": [
    {
     "name": "stdout",
     "output_type": "stream",
     "text": [
      "sda\n",
      "sda\n"
     ]
    }
   ],
   "source": [
    "import tkinter as tk\n",
    "\n",
    "\n",
    "app = tk.Tk()\n",
    "app.title('Hello world')\n",
    "\n",
    "\n",
    "def showme(N):\n",
    "    print(N)\n",
    "\n",
    "\n",
    "label = tk.Label(app, text=\"Enter your name:\")\n",
    "name = tk.Entry(app)\n",
    "button = tk.Button(app, text='Submit', command=lambda: showme(name.get()))\n",
    "\n",
    "\n",
    "label.pack()\n",
    "name.pack()\n",
    "button.pack()\n",
    "\n",
    "\n",
    "app.mainloop()"
   ]
  }
 ],
 "metadata": {
  "kernelspec": {
   "display_name": "Python 3",
   "language": "python",
   "name": "python3"
  },
  "language_info": {
   "codemirror_mode": {
    "name": "ipython",
    "version": 3
   },
   "file_extension": ".py",
   "mimetype": "text/x-python",
   "name": "python",
   "nbconvert_exporter": "python",
   "pygments_lexer": "ipython3",
   "version": "3.12.4"
  }
 },
 "nbformat": 4,
 "nbformat_minor": 2
}
