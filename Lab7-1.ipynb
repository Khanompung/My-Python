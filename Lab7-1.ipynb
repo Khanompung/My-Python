{
 "cells": [
  {
   "cell_type": "code",
   "execution_count": 51,
   "metadata": {},
   "outputs": [
    {
     "name": "stdout",
     "output_type": "stream",
     "text": [
      "ชื่อพนักงาน: wommy\n",
      "เงินเดือน: 10000.00\n",
      "ชั่วโมงที่ล่วงเวลา: 100\n",
      "ค่าล่วงเวลา: 15000.00\n",
      "เงินเดือนทั้งหมด: 25000.00\n"
     ]
    }
   ],
   "source": [
    "def Getuser ():\n",
    "    Name = str(input(\"ชื่อพนักงาน : \"))\n",
    "    money = float(input(\"เงินเดือน : \"))\n",
    "    hours = int(input(\"ทำงานล่วงเวลา (ชม.): \"))\n",
    "    return Name, money, hours\n",
    "    \n",
    "def Calculate (money, hours):\n",
    "    if hours > 40:\n",
    "        overtime = hours * 150\n",
    "        \n",
    "    else:\n",
    "        overtime = hours * 100\n",
    "        \n",
    "    total_money = overtime + money\n",
    "    return total_money,overtime \n",
    "\n",
    "name, money, hours = Getuser()\n",
    "total_money,overtime = Calculate(money, hours)\n",
    "\n",
    "print(\"ชื่อพนักงาน:\", name)\n",
    "print(\"เงินเดือน: %.2f\"% money)\n",
    "print(\"ชั่วโมงที่ล่วงเวลา: %d\"% hours)\n",
    "print(\"ค่าล่วงเวลา: %.2f\"% overtime)\n",
    "print(\"เงินเดือนทั้งหมด: %.2f\" % total_money)\n"
   ]
  }
 ],
 "metadata": {
  "kernelspec": {
   "display_name": "Python 3",
   "language": "python",
   "name": "python3"
  },
  "language_info": {
   "codemirror_mode": {
    "name": "ipython",
    "version": 3
   },
   "file_extension": ".py",
   "mimetype": "text/x-python",
   "name": "python",
   "nbconvert_exporter": "python",
   "pygments_lexer": "ipython3",
   "version": "3.12.4"
  }
 },
 "nbformat": 4,
 "nbformat_minor": 2
}
