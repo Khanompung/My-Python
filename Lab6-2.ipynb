{
 "cells": [
  {
   "cell_type": "code",
   "execution_count": null,
   "metadata": {},
   "outputs": [],
   "source": [
    "def sumg(A1,B1,C1):\n",
    "    together = A+B+C\n",
    "    return together\n",
    "\n",
    "A1 = float(input(\"คะแนนเก็บ: \"))\n",
    "B1 = float(input(\"คะแนนจิตพิสัย: \"))\n",
    "C1 = float(input(\"คะแนนกลางภาค: \"))\n",
    "print(sumg(A1,B1,C1))\n"
   ]
  },
  {
   "cell_type": "code",
   "execution_count": 65,
   "metadata": {},
   "outputs": [
    {
     "name": "stdout",
     "output_type": "stream",
     "text": [
      "คะแนนรวม: 30.00\n"
     ]
    }
   ],
   "source": [
    "\n",
    "   \n",
    "def check_and_sum():\n",
    "        while True:\n",
    "                A = int(input(\"คะแนนเก็บ: \"))\n",
    "                if A > 20:\n",
    "                    print(\"คะแนนเกิน 20 กรุณาใส่ใหม่\")\n",
    "                else:\n",
    "                    break\n",
    "\n",
    "        while True:\n",
    "                B = int(input(\"คะแนนจิตพิสัย: \"))\n",
    "                if B > 10:\n",
    "                    print(\"คะแนนเกิน 10 กรุณาใส่ใหม่\")\n",
    "                else:\n",
    "                    break\n",
    "\n",
    "        while True:\n",
    "                C = int(input(\"คะแนนกลางภาค: \"))\n",
    "                if C > 20:\n",
    "                    print(\"คะแนนเกิน 20 กรุณาใส่ใหม่\")\n",
    "                else:\n",
    "                    break\n",
    "        together = A+B+C\n",
    "        print(\"คะแนนรวม: %.2f\"% together)  \n",
    "\n",
    "                    \n",
    "      \n",
    "  \n",
    "check_and_sum()\n",
    "\n"
   ]
  }
 ],
 "metadata": {
  "kernelspec": {
   "display_name": "Python 3",
   "language": "python",
   "name": "python3"
  },
  "language_info": {
   "codemirror_mode": {
    "name": "ipython",
    "version": 3
   },
   "file_extension": ".py",
   "mimetype": "text/x-python",
   "name": "python",
   "nbconvert_exporter": "python",
   "pygments_lexer": "ipython3",
   "version": "3.12.4"
  }
 },
 "nbformat": 4,
 "nbformat_minor": 2
}
